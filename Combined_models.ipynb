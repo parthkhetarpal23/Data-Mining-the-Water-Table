{
 "cells": [
  {
   "cell_type": "code",
   "execution_count": 31,
   "metadata": {},
   "outputs": [],
   "source": [
    "from sklearn.externals import joblib\n",
    "from sklearn.metrics import *\n",
    "import warnings\n",
    "warnings.filterwarnings('ignore')"
   ]
  },
  {
   "cell_type": "code",
   "execution_count": 48,
   "metadata": {},
   "outputs": [],
   "source": [
    "XGB=joblib.load('xgb_modelmodel.sav')"
   ]
  },
  {
   "cell_type": "code",
   "execution_count": 54,
   "metadata": {},
   "outputs": [],
   "source": [
    "GBC=joblib.load('GBCFINALMODELTEST.sav')"
   ]
  },
  {
   "cell_type": "code",
   "execution_count": 34,
   "metadata": {},
   "outputs": [],
   "source": [
    "RFC=joblib.load('final_rfc78.sav')"
   ]
  },
  {
   "cell_type": "code",
   "execution_count": 35,
   "metadata": {},
   "outputs": [],
   "source": [
    "import pandas as pd\n",
    "import numpy as np\n",
    "from sklearn.cross_validation import train_test_split\n",
    "from sklearn.grid_search import GridSearchCV\n",
    "from sklearn.ensemble import RandomForestClassifier,GradientBoostingClassifier\n",
    "import warnings\n",
    "warnings.filterwarnings('ignore')\n",
    "train = \"https://raw.githubusercontent.com/12ani/Taarifa_water_table/master/pump_train_for_models%20(1).csv\" \n",
    "test =  \"https://raw.githubusercontent.com/12ani/Taarifa_water_table/master/water_table_test.csv\"\n",
    "\n",
    "train = pd.read_csv(train)\n",
    "test = pd.read_csv(test)"
   ]
  },
  {
   "cell_type": "code",
   "execution_count": 36,
   "metadata": {},
   "outputs": [],
   "source": [
    "dummy_cols = ['funder', 'installer', 'basin', 'public_meeting', 'scheme_management', 'permit',\n",
    "              'construction_year', 'management_group', 'payment', 'water_quality',\n",
    "              'quantity', 'source_class', 'waterpoint_type']\n",
    "\n",
    "train = pd.get_dummies(train, columns = dummy_cols)\n",
    "\n",
    "train = train.sample(frac=1).reset_index(drop=True)"
   ]
  },
  {
   "cell_type": "code",
   "execution_count": 37,
   "metadata": {},
   "outputs": [],
   "source": [
    "test = pd.get_dummies(test, columns = dummy_cols)\n"
   ]
  },
  {
   "cell_type": "code",
   "execution_count": 38,
   "metadata": {},
   "outputs": [],
   "source": [
    "target = train.status_group\n",
    "features = train.drop('status_group', axis=1)\n",
    "\n",
    "X_train, X_val, y_train, y_val = train_test_split(features, target, train_size=0.8)"
   ]
  },
  {
   "cell_type": "code",
   "execution_count": 49,
   "metadata": {},
   "outputs": [
    {
     "name": "stdout",
     "output_type": "stream",
     "text": [
      "Accuracy obtained by XGB model is 0.8741582491582491\n"
     ]
    }
   ],
   "source": [
    "XGB_acc = XGB.score(X_val,y_val)\n",
    "print(\"Accuracy obtained by XGB model is\",XGB_acc)"
   ]
  },
  {
   "cell_type": "code",
   "execution_count": 55,
   "metadata": {},
   "outputs": [
    {
     "name": "stdout",
     "output_type": "stream",
     "text": [
      "Accuracy obtained by GBC model is 0.9004208754208755\n"
     ]
    }
   ],
   "source": [
    "GBC_acc = GBC.score(X_val,y_val)\n",
    "print(\"Accuracy obtained by GBC model is\",GBC_acc)"
   ]
  },
  {
   "cell_type": "code",
   "execution_count": 53,
   "metadata": {},
   "outputs": [
    {
     "name": "stdout",
     "output_type": "stream",
     "text": [
      "Accuracy obtained by RFC model is 0.8905723905723906\n"
     ]
    }
   ],
   "source": [
    "RFC_acc = RFC.score(X_val,y_val)\n",
    "print(\"Accuracy obtained by RFC model is\",RFC_acc)"
   ]
  },
  {
   "cell_type": "code",
   "execution_count": null,
   "metadata": {},
   "outputs": [],
   "source": []
  },
  {
   "cell_type": "code",
   "execution_count": null,
   "metadata": {},
   "outputs": [],
   "source": []
  }
 ],
 "metadata": {
  "kernelspec": {
   "display_name": "Python 3",
   "language": "python",
   "name": "python3"
  },
  "language_info": {
   "codemirror_mode": {
    "name": "ipython",
    "version": 3
   },
   "file_extension": ".py",
   "mimetype": "text/x-python",
   "name": "python",
   "nbconvert_exporter": "python",
   "pygments_lexer": "ipython3",
   "version": "3.6.6"
  }
 },
 "nbformat": 4,
 "nbformat_minor": 2
}
