{
  "nbformat": 4,
  "nbformat_minor": 0,
  "metadata": {
    "colab": {
      "name": "PREPROCESSING.ipynb",
      "version": "0.3.2",
      "provenance": [],
      "collapsed_sections": []
    },
    "kernelspec": {
      "name": "python2",
      "display_name": "Python 2"
    },
    "accelerator": "TPU"
  },
  "cells": [
    {
      "metadata": {
        "colab_type": "code",
        "id": "E1UmfXzwRbgM",
        "outputId": "54887b4d-341c-448a-da67-ed8f8498bee5",
        "colab": {
          "base_uri": "https://localhost:8080/",
          "height": 207
        }
      },
      "cell_type": "code",
      "source": [
        "!pip3 install -U seaborn\n"
      ],
      "execution_count": 0,
      "outputs": [
        {
          "output_type": "stream",
          "text": [
            "Requirement already up-to-date: seaborn in /usr/local/lib/python3.6/dist-packages (0.9.0)\n",
            "Requirement already satisfied, skipping upgrade: pandas>=0.15.2 in /usr/local/lib/python3.6/dist-packages (from seaborn) (0.22.0)\n",
            "Requirement already satisfied, skipping upgrade: scipy>=0.14.0 in /usr/local/lib/python3.6/dist-packages (from seaborn) (1.1.0)\n",
            "Requirement already satisfied, skipping upgrade: numpy>=1.9.3 in /usr/local/lib/python3.6/dist-packages (from seaborn) (1.14.6)\n",
            "Requirement already satisfied, skipping upgrade: matplotlib>=1.4.3 in /usr/local/lib/python3.6/dist-packages (from seaborn) (2.1.2)\n",
            "Requirement already satisfied, skipping upgrade: python-dateutil>=2 in /usr/local/lib/python3.6/dist-packages (from pandas>=0.15.2->seaborn) (2.5.3)\n",
            "Requirement already satisfied, skipping upgrade: pytz>=2011k in /usr/local/lib/python3.6/dist-packages (from pandas>=0.15.2->seaborn) (2018.7)\n",
            "Requirement already satisfied, skipping upgrade: six>=1.10 in /usr/local/lib/python3.6/dist-packages (from matplotlib>=1.4.3->seaborn) (1.11.0)\n",
            "Requirement already satisfied, skipping upgrade: pyparsing!=2.0.4,!=2.1.2,!=2.1.6,>=2.0.1 in /usr/local/lib/python3.6/dist-packages (from matplotlib>=1.4.3->seaborn) (2.3.0)\n",
            "Requirement already satisfied, skipping upgrade: cycler>=0.10 in /usr/local/lib/python3.6/dist-packages (from matplotlib>=1.4.3->seaborn) (0.10.0)\n"
          ],
          "name": "stdout"
        }
      ]
    },
    {
      "metadata": {
        "id": "0C1o5ockJEP2",
        "colab_type": "code",
        "colab": {}
      },
      "cell_type": "code",
      "source": [
        "import pandas as pd\n",
        "import numpy as np\n",
        "import matplotlib.pyplot as plt\n",
        "import seaborn as sns\n",
        "\n",
        "# Load data.\n",
        "df = pd.read_csv(\"https://raw.githubusercontent.com/12ani/Taarifa_water_table/master/training_set_values.csv\")\n",
        "labels = pd.read_csv(\"https://raw.githubusercontent.com/12ani/Taarifa_water_table/master/training_set_labels.csv\")\n",
        "\n",
        "# Merge data and labels together in one dataframe.\n",
        "df = pd.merge(df, labels, on='id')\n",
        "del labels"
      ],
      "execution_count": 0,
      "outputs": []
    },
    {
      "metadata": {
        "colab_type": "code",
        "id": "jlQjopydRki7",
        "outputId": "10d5354b-5c5c-46c2-f914-6612ea55a991",
        "colab": {
          "base_uri": "https://localhost:8080/",
          "height": 799
        }
      },
      "cell_type": "code",
      "source": [
        "\n",
        "# Data set description \n",
        "\n",
        "df.info()"
      ],
      "execution_count": 0,
      "outputs": [
        {
          "output_type": "stream",
          "text": [
            "<class 'pandas.core.frame.DataFrame'>\n",
            "Int64Index: 59400 entries, 0 to 59399\n",
            "Data columns (total 41 columns):\n",
            "id                       59400 non-null int64\n",
            "amount_tsh               59400 non-null float64\n",
            "date_recorded            59400 non-null object\n",
            "funder                   55765 non-null object\n",
            "gps_height               59400 non-null int64\n",
            "installer                55745 non-null object\n",
            "longitude                59400 non-null float64\n",
            "latitude                 59400 non-null float64\n",
            "wpt_name                 59400 non-null object\n",
            "num_private              59400 non-null int64\n",
            "basin                    59400 non-null object\n",
            "subvillage               59029 non-null object\n",
            "region                   59400 non-null object\n",
            "region_code              59400 non-null int64\n",
            "district_code            59400 non-null int64\n",
            "lga                      59400 non-null object\n",
            "ward                     59400 non-null object\n",
            "population               59400 non-null int64\n",
            "public_meeting           56066 non-null object\n",
            "recorded_by              59400 non-null object\n",
            "scheme_management        55523 non-null object\n",
            "scheme_name              31234 non-null object\n",
            "permit                   56344 non-null object\n",
            "construction_year        59400 non-null int64\n",
            "extraction_type          59400 non-null object\n",
            "extraction_type_group    59400 non-null object\n",
            "extraction_type_class    59400 non-null object\n",
            "management               59400 non-null object\n",
            "management_group         59400 non-null object\n",
            "payment                  59400 non-null object\n",
            "payment_type             59400 non-null object\n",
            "water_quality            59400 non-null object\n",
            "quality_group            59400 non-null object\n",
            "quantity                 59400 non-null object\n",
            "quantity_group           59400 non-null object\n",
            "source                   59400 non-null object\n",
            "source_type              59400 non-null object\n",
            "source_class             59400 non-null object\n",
            "waterpoint_type          59400 non-null object\n",
            "waterpoint_type_group    59400 non-null object\n",
            "status_group             59400 non-null object\n",
            "dtypes: float64(3), int64(7), object(31)\n",
            "memory usage: 19.0+ MB\n"
          ],
          "name": "stdout"
        }
      ]
    },
    {
      "metadata": {
        "colab_type": "code",
        "id": "t9RRmwVvfnkr",
        "outputId": "a2ff9c1d-7dcf-4421-b0e8-952e017886a1",
        "colab": {
          "base_uri": "https://localhost:8080/",
          "height": 731
        }
      },
      "cell_type": "code",
      "source": [
        "# Check for null values \n",
        "\n",
        "df.apply(lambda x: sum(x.isnull()))"
      ],
      "execution_count": 0,
      "outputs": [
        {
          "output_type": "execute_result",
          "data": {
            "text/plain": [
              "id                           0\n",
              "amount_tsh                   0\n",
              "date_recorded                0\n",
              "funder                    3635\n",
              "gps_height                   0\n",
              "installer                 3655\n",
              "longitude                    0\n",
              "latitude                     0\n",
              "wpt_name                     0\n",
              "num_private                  0\n",
              "basin                        0\n",
              "subvillage                 371\n",
              "region                       0\n",
              "region_code                  0\n",
              "district_code                0\n",
              "lga                          0\n",
              "ward                         0\n",
              "population                   0\n",
              "public_meeting            3334\n",
              "recorded_by                  0\n",
              "scheme_management         3877\n",
              "scheme_name              28166\n",
              "permit                    3056\n",
              "construction_year            0\n",
              "extraction_type              0\n",
              "extraction_type_group        0\n",
              "extraction_type_class        0\n",
              "management                   0\n",
              "management_group             0\n",
              "payment                      0\n",
              "payment_type                 0\n",
              "water_quality                0\n",
              "quality_group                0\n",
              "quantity                     0\n",
              "quantity_group               0\n",
              "source                       0\n",
              "source_type                  0\n",
              "source_class                 0\n",
              "waterpoint_type              0\n",
              "waterpoint_type_group        0\n",
              "status_group                 0\n",
              "dtype: int64"
            ]
          },
          "metadata": {
            "tags": []
          },
          "execution_count": 74
        }
      ]
    },
    {
      "metadata": {
        "id": "8egeQQS0BlvL",
        "colab_type": "code",
        "outputId": "696957a1-2242-4278-fe13-f6f798b58ed4",
        "colab": {
          "base_uri": "https://localhost:8080/",
          "height": 446
        }
      },
      "cell_type": "code",
      "source": [
        "#visual representation to get better picture about the dataset \n",
        "\n",
        "#count of status_group (functional, non-functional, needs repair)\n",
        "plt.figure()\n",
        "sns.countplot(df.status_group)\n",
        "plt.show()\n",
        "df.groupby(['status_group']).size()"
      ],
      "execution_count": 0,
      "outputs": [
        {
          "output_type": "display_data",
          "data": {
            "image/png": "[encoded data removed]",
            "text/plain": [
              "<matplotlib.figure.Figure at 0x7fbc2f905490>"
            ]
          },
          "metadata": {
            "tags": []
          }
        },
        {
          "output_type": "execute_result",
          "data": {
            "text/plain": [
              "status_group\n",
              "functional                 32259\n",
              "functional needs repair     4317\n",
              "non functional             22824\n",
              "dtype: int64"
            ]
          },
          "metadata": {
            "tags": []
          },
          "execution_count": 75
        }
      ]
    },
    {
      "metadata": {
        "id": "0uz3dy7qiRb9",
        "colab_type": "text"
      },
      "cell_type": "markdown",
      "source": [
        ""
      ]
    },
    {
      "metadata": {
        "id": "JvkU-irzEQFR",
        "colab_type": "code",
        "outputId": "d4ba9e93-a8c2-40e7-8289-96136f1dbe61",
        "colab": {
          "base_uri": "https://localhost:8080/",
          "height": 1543
        }
      },
      "cell_type": "code",
      "source": [
        "# Status_group with respect to region \n",
        "plt.figure(figsize=(20,20))\n",
        "sns.countplot(data=df,x='region',hue='status_group')\n",
        "df.region.value_counts()\n"
      ],
      "execution_count": 0,
      "outputs": [
        {
          "output_type": "execute_result",
          "data": {
            "text/plain": [
              "Iringa           5294\n",
              "Shinyanga        4982\n",
              "Mbeya            4639\n",
              "Kilimanjaro      4379\n",
              "Morogoro         4006\n",
              "Arusha           3350\n",
              "Kagera           3316\n",
              "Mwanza           3102\n",
              "Kigoma           2816\n",
              "Ruvuma           2640\n",
              "Pwani            2635\n",
              "Tanga            2547\n",
              "Dodoma           2201\n",
              "Singida          2093\n",
              "Mara             1969\n",
              "Tabora           1959\n",
              "Rukwa            1808\n",
              "Mtwara           1730\n",
              "Manyara          1583\n",
              "Lindi            1546\n",
              "Dar es Salaam     805\n",
              "Name: region, dtype: int64"
            ]
          },
          "metadata": {
            "tags": []
          },
          "execution_count": 76
        },
        {
          "output_type": "display_data",
          "data": {
            "image/png": "[encoded data removed]",
            "text/plain": [
              "<matplotlib.figure.Figure at 0x7fbc2f960210>"
            ]
          },
          "metadata": {
            "tags": []
          }
        }
      ]
    },
    {
      "metadata": {
        "id": "yCgYQ3XqIIgx",
        "colab_type": "code",
        "outputId": "60077504-ce61-4939-ab60-1210de679dcb",
        "colab": {
          "base_uri": "https://localhost:8080/",
          "height": 232
        }
      },
      "cell_type": "code",
      "source": [
        "#Stus_group with respect to area \n",
        "plt.figure()\n",
        "sns.scatterplot(data=df,x='latitude', y='longitude',hue='status_group')\n",
        "plt.ylim(25,50)\n",
        "plt.show()"
      ],
      "execution_count": 0,
      "outputs": [
        {
          "output_type": "error",
          "ename": "AttributeError",
          "evalue": "ignored",
          "traceback": [
            "\u001b[0;31m\u001b[0m",
            "\u001b[0;31mAttributeError\u001b[0mTraceback (most recent call last)",
            "\u001b[0;32m<ipython-input-77-45cd3d80994f>\u001b[0m in \u001b[0;36m<module>\u001b[0;34m()\u001b[0m\n\u001b[1;32m      1\u001b[0m \u001b[0mplt\u001b[0m\u001b[0;34m.\u001b[0m\u001b[0mfigure\u001b[0m\u001b[0;34m(\u001b[0m\u001b[0;34m)\u001b[0m\u001b[0;34m\u001b[0m\u001b[0m\n\u001b[0;32m----> 2\u001b[0;31m \u001b[0msns\u001b[0m\u001b[0;34m.\u001b[0m\u001b[0mscatterplot\u001b[0m\u001b[0;34m(\u001b[0m\u001b[0mdata\u001b[0m\u001b[0;34m=\u001b[0m\u001b[0mdf\u001b[0m\u001b[0;34m,\u001b[0m\u001b[0mx\u001b[0m\u001b[0;34m=\u001b[0m\u001b[0;34m'latitude'\u001b[0m\u001b[0;34m,\u001b[0m \u001b[0my\u001b[0m\u001b[0;34m=\u001b[0m\u001b[0;34m'longitude'\u001b[0m\u001b[0;34m,\u001b[0m\u001b[0mhue\u001b[0m\u001b[0;34m=\u001b[0m\u001b[0;34m'status_group'\u001b[0m\u001b[0;34m)\u001b[0m\u001b[0;34m\u001b[0m\u001b[0m\n\u001b[0m\u001b[1;32m      3\u001b[0m \u001b[0mplt\u001b[0m\u001b[0;34m.\u001b[0m\u001b[0mylim\u001b[0m\u001b[0;34m(\u001b[0m\u001b[0;36m25\u001b[0m\u001b[0;34m,\u001b[0m\u001b[0;36m50\u001b[0m\u001b[0;34m)\u001b[0m\u001b[0;34m\u001b[0m\u001b[0m\n\u001b[1;32m      4\u001b[0m \u001b[0mplt\u001b[0m\u001b[0;34m.\u001b[0m\u001b[0mshow\u001b[0m\u001b[0;34m(\u001b[0m\u001b[0;34m)\u001b[0m\u001b[0;34m\u001b[0m\u001b[0m\n",
            "\u001b[0;31mAttributeError\u001b[0m: 'module' object has no attribute 'scatterplot'"
          ]
        },
        {
          "output_type": "display_data",
          "data": {
            "text/plain": [
              "<matplotlib.figure.Figure at 0x7fbc2fb7d550>"
            ]
          },
          "metadata": {
            "tags": []
          }
        }
      ]
    },
    {
      "metadata": {
        "id": "O7q00UKLl4-N",
        "colab_type": "code",
        "colab": {}
      },
      "cell_type": "code",
      "source": [
        "# water qaulity w.r.t status group \n",
        "plt.figure(figsize=(15,15))\n",
        "sns.countplot(data=df,x='water_quality',hue='status_group')\n",
        "df.water_quality.value_counts()\n",
        "\n",
        "#Since, majority of pumps lie in 'soft' category. There is not much variance \n",
        "#in this column. \n",
        "#We might drop this column. "
      ],
      "execution_count": 0,
      "outputs": []
    },
    {
      "metadata": {
        "id": "9mm8jY-kdYQe",
        "colab_type": "code",
        "colab": {}
      },
      "cell_type": "code",
      "source": [
        "plt.figure(figsize=(15,15))\n",
        "sns.countplot(data=df,x='district_code',hue='status_group')\n",
        "df.district_code.value_counts()"
      ],
      "execution_count": 0,
      "outputs": []
    },
    {
      "metadata": {
        "id": "Y76HW_KifBHz",
        "colab_type": "code",
        "colab": {}
      },
      "cell_type": "code",
      "source": [
        "plt.figure(figsize=(15,15))\n",
        "sns.countplot(data=df,x='ward',hue='status_group')\n",
        "plt.ylim(0,150)\n",
        "df.ward.value_counts()"
      ],
      "execution_count": 0,
      "outputs": []
    },
    {
      "metadata": {
        "id": "prfBqUA2nAur",
        "colab_type": "code",
        "colab": {}
      },
      "cell_type": "code",
      "source": [
        "#There are some features that we can remve right away just by looking at the data.\n",
        "#Apart from these, other features are evaluated later in the code"
      ],
      "execution_count": 0,
      "outputs": []
    },
    {
      "metadata": {
        "id": "XO41usUeQuyE",
        "colab_type": "code",
        "colab": {}
      },
      "cell_type": "code",
      "source": [
        "#Drop redundant or similar columns \n",
        "df = df.drop(columns = ['wpt_name','extraction_type','extraction_type_group','extraction_type_class','scheme_name','payment_type','quantity_group','source_type','waterpoint_type_group','quality_group','source','management'])"
      ],
      "execution_count": 0,
      "outputs": []
    },
    {
      "metadata": {
        "id": "hXIyjinEeqey",
        "colab_type": "code",
        "colab": {}
      },
      "cell_type": "code",
      "source": [
        "#Drop location features \n",
        "df= df.drop(columns = ['gps_height', 'longitude', 'latitude', 'region_code', 'district_code','region', 'lga', 'ward'])"
      ],
      "execution_count": 0,
      "outputs": []
    },
    {
      "metadata": {
        "id": "5F_3nrxnenHu",
        "colab_type": "code",
        "colab": {}
      },
      "cell_type": "code",
      "source": [
        "#Drop columns with insignificant values\n",
        "#both the columns have single value\n",
        "df= df.drop(columns = ['recorded_by','num_private'])\n",
        "\n",
        "\n"
      ],
      "execution_count": 0,
      "outputs": []
    },
    {
      "metadata": {
        "colab_type": "code",
        "id": "wmezkiEufpFi",
        "colab": {}
      },
      "cell_type": "code",
      "source": [
        "#Keeping only funders above 500 count\n",
        "def funder_top500(row):  \n",
        "    '''Keep top 5 values and set the rest to 'other'''\n",
        "\n",
        "    if row['funder']=='Government Of Tanzania':\n",
        "        return 'gov'\n",
        "    elif row['funder']=='Danida':\n",
        "        return 'danida'\n",
        "    elif row['funder']=='Hesawa':\n",
        "        return 'hesawa'\n",
        "    elif row['funder']=='Rwssp':\n",
        "        return 'rwssp'\n",
        "    elif row['funder']=='World Bank':\n",
        "        return 'world_bank' \n",
        "    elif row['funder']=='Kkkt':\n",
        "        return 'Kkkt'    \n",
        "    elif row['funder']=='World Vision':\n",
        "        return 'World Vision'\n",
        "    elif row['funder']=='Unicef':\n",
        "        return 'Unicef' \n",
        "    elif row['funder']=='Tasaf':\n",
        "        return 'Tasaf' \n",
        "    elif row['funder']=='Dhv':\n",
        "        return 'Dhv' \n",
        "    elif row['funder']=='Private Individual':\n",
        "        return 'Private Individual' \n",
        "    elif row['funder']=='Dwsp':\n",
        "        return 'Dwsp' \n",
        "    elif row['funder']=='Norad':\n",
        "        return 'Norad' \n",
        "    elif row['funder']=='Germany Republi':\n",
        "        return 'Germany Republi'\n",
        "    elif row['funder']=='Ministry Of Water':\n",
        "        return 'Ministry Of Water'\n",
        "    elif row['funder']=='Tcrs':\n",
        "        return 'Tcrs'\n",
        "    elif row['funder']=='Water':\n",
        "        return 'Water'\n",
        "    else:\n",
        "        return 'other'\n",
        "    \n",
        "df['funder'] = df.apply(lambda row: funder_top500(row), axis=1)"
      ],
      "execution_count": 0,
      "outputs": []
    },
    {
      "metadata": {
        "id": "JHbeXYMvTvsT",
        "colab_type": "code",
        "outputId": "766276d1-3734-4f1b-94a0-220750cea07b",
        "colab": {
          "base_uri": "https://localhost:8080/",
          "height": 1492
        }
      },
      "cell_type": "code",
      "source": [
        "plt.figure(figsize=(20,20))\n",
        "sns.countplot(data=df,x='funder',hue='status_group')\n",
        "df.funder.value_counts()"
      ],
      "execution_count": 0,
      "outputs": [
        {
          "output_type": "execute_result",
          "data": {
            "text/plain": [
              "other                 32194\n",
              "gov                    9084\n",
              "danida                 3114\n",
              "hesawa                 2202\n",
              "rwssp                  1374\n",
              "world_bank             1349\n",
              "Kkkt                   1287\n",
              "World Vision           1246\n",
              "Unicef                 1057\n",
              "Tasaf                   877\n",
              "Dhv                     829\n",
              "Private Individual      826\n",
              "Dwsp                    811\n",
              "Norad                   765\n",
              "Germany Republi         610\n",
              "Tcrs                    602\n",
              "Ministry Of Water       590\n",
              "Water                   583\n",
              "Name: funder, dtype: int64"
            ]
          },
          "metadata": {
            "tags": []
          },
          "execution_count": 89
        },
        {
          "output_type": "display_data",
          "data": {
            "image/png": "[encoded data removed]",
            "text/plain": [
              "<matplotlib.figure.Figure at 0x7fbc2f9e2f10>"
            ]
          },
          "metadata": {
            "tags": []
          }
        }
      ]
    },
    {
      "metadata": {
        "colab_type": "code",
        "id": "g9zAB4VKfpSz",
        "colab": {}
      },
      "cell_type": "code",
      "source": [
        "#Addiing new column called 'status_group_int' to make pivot table in order to \n",
        "# see status of pumps between the different funders.\n",
        "\n",
        "vals_to_replace = {'functional':2, 'functional needs repair':1,\n",
        "                   'non functional':0}\n",
        "\n",
        "df['status_group_int']  = df.status_group.replace(vals_to_replace)"
      ],
      "execution_count": 0,
      "outputs": []
    },
    {
      "metadata": {
        "colab_type": "code",
        "id": "YrHdQa5rf0Ag",
        "outputId": "abbbc46f-1a8b-4f0e-e1f7-053b4e8daf33",
        "colab": {
          "base_uri": "https://localhost:8080/",
          "height": 1754
        }
      },
      "cell_type": "code",
      "source": [
        "piv_table = pd.pivot_table(df,index=['funder','status_group'],\n",
        "                           values='status_group_int', aggfunc='count')\n",
        "piv_table"
      ],
      "execution_count": 0,
      "outputs": [
        {
          "output_type": "execute_result",
          "data": {
            "text/html": [
              "<div>\n",
              "<style scoped>\n",
              "    .dataframe tbody tr th:only-of-type {\n",
              "        vertical-align: middle;\n",
              "    }\n",
              "\n",
              "    .dataframe tbody tr th {\n",
              "        vertical-align: top;\n",
              "    }\n",
              "\n",
              "    .dataframe thead th {\n",
              "        text-align: right;\n",
              "    }\n",
              "</style>\n",
              "<table border=\"1\" class=\"dataframe\">\n",
              "  <thead>\n",
              "    <tr style=\"text-align: right;\">\n",
              "      <th></th>\n",
              "      <th></th>\n",
              "      <th>status_group_int</th>\n",
              "    </tr>\n",
              "    <tr>\n",
              "      <th>funder</th>\n",
              "      <th>status_group</th>\n",
              "      <th></th>\n",
              "    </tr>\n",
              "  </thead>\n",
              "  <tbody>\n",
              "    <tr>\n",
              "      <th rowspan=\"3\" valign=\"top\">Dhv</th>\n",
              "      <th>functional</th>\n",
              "      <td>469</td>\n",
              "    </tr>\n",
              "    <tr>\n",
              "      <th>functional needs repair</th>\n",
              "      <td>59</td>\n",
              "    </tr>\n",
              "    <tr>\n",
              "      <th>non functional</th>\n",
              "      <td>301</td>\n",
              "    </tr>\n",
              "    <tr>\n",
              "      <th rowspan=\"3\" valign=\"top\">Dwsp</th>\n",
              "      <th>functional</th>\n",
              "      <td>371</td>\n",
              "    </tr>\n",
              "    <tr>\n",
              "      <th>functional needs repair</th>\n",
              "      <td>225</td>\n",
              "    </tr>\n",
              "    <tr>\n",
              "      <th>non functional</th>\n",
              "      <td>215</td>\n",
              "    </tr>\n",
              "    <tr>\n",
              "      <th rowspan=\"3\" valign=\"top\">Germany Republi</th>\n",
              "      <th>functional</th>\n",
              "      <td>538</td>\n",
              "    </tr>\n",
              "    <tr>\n",
              "      <th>functional needs repair</th>\n",
              "      <td>1</td>\n",
              "    </tr>\n",
              "    <tr>\n",
              "      <th>non functional</th>\n",
              "      <td>71</td>\n",
              "    </tr>\n",
              "    <tr>\n",
              "      <th rowspan=\"3\" valign=\"top\">Kkkt</th>\n",
              "      <th>functional</th>\n",
              "      <td>723</td>\n",
              "    </tr>\n",
              "    <tr>\n",
              "      <th>functional needs repair</th>\n",
              "      <td>66</td>\n",
              "    </tr>\n",
              "    <tr>\n",
              "      <th>non functional</th>\n",
              "      <td>498</td>\n",
              "    </tr>\n",
              "    <tr>\n",
              "      <th rowspan=\"3\" valign=\"top\">Ministry Of Water</th>\n",
              "      <th>functional</th>\n",
              "      <td>192</td>\n",
              "    </tr>\n",
              "    <tr>\n",
              "      <th>functional needs repair</th>\n",
              "      <td>19</td>\n",
              "    </tr>\n",
              "    <tr>\n",
              "      <th>non functional</th>\n",
              "      <td>379</td>\n",
              "    </tr>\n",
              "    <tr>\n",
              "      <th rowspan=\"3\" valign=\"top\">Norad</th>\n",
              "      <th>functional</th>\n",
              "      <td>259</td>\n",
              "    </tr>\n",
              "    <tr>\n",
              "      <th>functional needs repair</th>\n",
              "      <td>165</td>\n",
              "    </tr>\n",
              "    <tr>\n",
              "      <th>non functional</th>\n",
              "      <td>341</td>\n",
              "    </tr>\n",
              "    <tr>\n",
              "      <th rowspan=\"3\" valign=\"top\">Private Individual</th>\n",
              "      <th>functional</th>\n",
              "      <td>690</td>\n",
              "    </tr>\n",
              "    <tr>\n",
              "      <th>functional needs repair</th>\n",
              "      <td>18</td>\n",
              "    </tr>\n",
              "    <tr>\n",
              "      <th>non functional</th>\n",
              "      <td>118</td>\n",
              "    </tr>\n",
              "    <tr>\n",
              "      <th rowspan=\"3\" valign=\"top\">Tasaf</th>\n",
              "      <th>functional</th>\n",
              "      <td>493</td>\n",
              "    </tr>\n",
              "    <tr>\n",
              "      <th>functional needs repair</th>\n",
              "      <td>64</td>\n",
              "    </tr>\n",
              "    <tr>\n",
              "      <th>non functional</th>\n",
              "      <td>320</td>\n",
              "    </tr>\n",
              "    <tr>\n",
              "      <th rowspan=\"3\" valign=\"top\">Tcrs</th>\n",
              "      <th>functional</th>\n",
              "      <td>241</td>\n",
              "    </tr>\n",
              "    <tr>\n",
              "      <th>functional needs repair</th>\n",
              "      <td>37</td>\n",
              "    </tr>\n",
              "    <tr>\n",
              "      <th>non functional</th>\n",
              "      <td>324</td>\n",
              "    </tr>\n",
              "    <tr>\n",
              "      <th rowspan=\"3\" valign=\"top\">Unicef</th>\n",
              "      <th>functional</th>\n",
              "      <td>600</td>\n",
              "    </tr>\n",
              "    <tr>\n",
              "      <th>functional needs repair</th>\n",
              "      <td>99</td>\n",
              "    </tr>\n",
              "    <tr>\n",
              "      <th>non functional</th>\n",
              "      <td>358</td>\n",
              "    </tr>\n",
              "    <tr>\n",
              "      <th rowspan=\"3\" valign=\"top\">Water</th>\n",
              "      <th>functional</th>\n",
              "      <td>258</td>\n",
              "    </tr>\n",
              "    <tr>\n",
              "      <th>functional needs repair</th>\n",
              "      <td>78</td>\n",
              "    </tr>\n",
              "    <tr>\n",
              "      <th>non functional</th>\n",
              "      <td>247</td>\n",
              "    </tr>\n",
              "    <tr>\n",
              "      <th rowspan=\"3\" valign=\"top\">World Vision</th>\n",
              "      <th>functional</th>\n",
              "      <td>743</td>\n",
              "    </tr>\n",
              "    <tr>\n",
              "      <th>functional needs repair</th>\n",
              "      <td>131</td>\n",
              "    </tr>\n",
              "    <tr>\n",
              "      <th>non functional</th>\n",
              "      <td>372</td>\n",
              "    </tr>\n",
              "    <tr>\n",
              "      <th rowspan=\"3\" valign=\"top\">danida</th>\n",
              "      <th>functional</th>\n",
              "      <td>1713</td>\n",
              "    </tr>\n",
              "    <tr>\n",
              "      <th>functional needs repair</th>\n",
              "      <td>159</td>\n",
              "    </tr>\n",
              "    <tr>\n",
              "      <th>non functional</th>\n",
              "      <td>1242</td>\n",
              "    </tr>\n",
              "    <tr>\n",
              "      <th rowspan=\"3\" valign=\"top\">gov</th>\n",
              "      <th>functional</th>\n",
              "      <td>3720</td>\n",
              "    </tr>\n",
              "    <tr>\n",
              "      <th>functional needs repair</th>\n",
              "      <td>701</td>\n",
              "    </tr>\n",
              "    <tr>\n",
              "      <th>non functional</th>\n",
              "      <td>4663</td>\n",
              "    </tr>\n",
              "    <tr>\n",
              "      <th rowspan=\"3\" valign=\"top\">hesawa</th>\n",
              "      <th>functional</th>\n",
              "      <td>936</td>\n",
              "    </tr>\n",
              "    <tr>\n",
              "      <th>functional needs repair</th>\n",
              "      <td>232</td>\n",
              "    </tr>\n",
              "    <tr>\n",
              "      <th>non functional</th>\n",
              "      <td>1034</td>\n",
              "    </tr>\n",
              "    <tr>\n",
              "      <th rowspan=\"3\" valign=\"top\">other</th>\n",
              "      <th>functional</th>\n",
              "      <td>18963</td>\n",
              "    </tr>\n",
              "    <tr>\n",
              "      <th>functional needs repair</th>\n",
              "      <td>2057</td>\n",
              "    </tr>\n",
              "    <tr>\n",
              "      <th>non functional</th>\n",
              "      <td>11174</td>\n",
              "    </tr>\n",
              "    <tr>\n",
              "      <th rowspan=\"3\" valign=\"top\">rwssp</th>\n",
              "      <th>functional</th>\n",
              "      <td>805</td>\n",
              "    </tr>\n",
              "    <tr>\n",
              "      <th>functional needs repair</th>\n",
              "      <td>109</td>\n",
              "    </tr>\n",
              "    <tr>\n",
              "      <th>non functional</th>\n",
              "      <td>460</td>\n",
              "    </tr>\n",
              "    <tr>\n",
              "      <th rowspan=\"3\" valign=\"top\">world_bank</th>\n",
              "      <th>functional</th>\n",
              "      <td>545</td>\n",
              "    </tr>\n",
              "    <tr>\n",
              "      <th>functional needs repair</th>\n",
              "      <td>97</td>\n",
              "    </tr>\n",
              "    <tr>\n",
              "      <th>non functional</th>\n",
              "      <td>707</td>\n",
              "    </tr>\n",
              "  </tbody>\n",
              "</table>\n",
              "</div>"
            ],
            "text/plain": [
              "                                            status_group_int\n",
              "funder             status_group                             \n",
              "Dhv                functional                            469\n",
              "                   functional needs repair                59\n",
              "                   non functional                        301\n",
              "Dwsp               functional                            371\n",
              "                   functional needs repair               225\n",
              "                   non functional                        215\n",
              "Germany Republi    functional                            538\n",
              "                   functional needs repair                 1\n",
              "                   non functional                         71\n",
              "Kkkt               functional                            723\n",
              "                   functional needs repair                66\n",
              "                   non functional                        498\n",
              "Ministry Of Water  functional                            192\n",
              "                   functional needs repair                19\n",
              "                   non functional                        379\n",
              "Norad              functional                            259\n",
              "                   functional needs repair               165\n",
              "                   non functional                        341\n",
              "Private Individual functional                            690\n",
              "                   functional needs repair                18\n",
              "                   non functional                        118\n",
              "Tasaf              functional                            493\n",
              "                   functional needs repair                64\n",
              "                   non functional                        320\n",
              "Tcrs               functional                            241\n",
              "                   functional needs repair                37\n",
              "                   non functional                        324\n",
              "Unicef             functional                            600\n",
              "                   functional needs repair                99\n",
              "                   non functional                        358\n",
              "Water              functional                            258\n",
              "                   functional needs repair                78\n",
              "                   non functional                        247\n",
              "World Vision       functional                            743\n",
              "                   functional needs repair               131\n",
              "                   non functional                        372\n",
              "danida             functional                           1713\n",
              "                   functional needs repair               159\n",
              "                   non functional                       1242\n",
              "gov                functional                           3720\n",
              "                   functional needs repair               701\n",
              "                   non functional                       4663\n",
              "hesawa             functional                            936\n",
              "                   functional needs repair               232\n",
              "                   non functional                       1034\n",
              "other              functional                          18963\n",
              "                   functional needs repair              2057\n",
              "                   non functional                      11174\n",
              "rwssp              functional                            805\n",
              "                   functional needs repair               109\n",
              "                   non functional                        460\n",
              "world_bank         functional                            545\n",
              "                   functional needs repair                97\n",
              "                   non functional                        707"
            ]
          },
          "metadata": {
            "tags": []
          },
          "execution_count": 91
        }
      ]
    },
    {
      "metadata": {
        "colab_type": "code",
        "id": "kS_-M6y_f0Ts",
        "outputId": "9819d59a-0d9c-4358-c4aa-c28a2963d769",
        "colab": {
          "base_uri": "https://localhost:8080/",
          "height": 272
        }
      },
      "cell_type": "code",
      "source": [
        "# For the feature 'installer'\n",
        "\n",
        "\n",
        "df.installer.value_counts()"
      ],
      "execution_count": 0,
      "outputs": [
        {
          "output_type": "execute_result",
          "data": {
            "text/plain": [
              "other                 30985\n",
              "dwe                   17402\n",
              "gov                    1825\n",
              "Hesawa                 1379\n",
              "rwe                    1206\n",
              "commu                  1060\n",
              "danida                 1050\n",
              "KKKT                    898\n",
              "TCRS                    707\n",
              "Central government      622\n",
              "CES                     610\n",
              "Community               553\n",
              "DANID                   552\n",
              "District Council        551\n",
              "Name: installer, dtype: int64"
            ]
          },
          "metadata": {
            "tags": []
          },
          "execution_count": 92
        }
      ]
    },
    {
      "metadata": {
        "colab_type": "code",
        "id": "5dLAs0J8glcY",
        "colab": {}
      },
      "cell_type": "code",
      "source": [
        "# Create a function to reduce the amount of dummy columns needed whilst maintaining the \n",
        "# information contained in the column.\n",
        "\n",
        "def installer_top500(row):\n",
        "    '''Keep top 5 values and set the rest to 'other'''\n",
        "    if row['installer']=='DWE':\n",
        "        return 'dwe'\n",
        "    elif row['installer']=='Government':\n",
        "        return 'gov'\n",
        "    elif row['installer']=='RWE':\n",
        "        return 'rwe'\n",
        "    elif row['installer']=='Commu':\n",
        "        return 'commu'\n",
        "    elif row['installer']=='DANIDA':\n",
        "        return 'danida'\n",
        "    elif row['installer']=='KKKT':\n",
        "        return 'KKKT'\n",
        "    elif row['installer']=='Hesawa' or row['installer']=='HESAWA':\n",
        "        return 'Hesawa'\n",
        "    elif row['installer']=='TCRS':\n",
        "        return 'TCRS'\n",
        "    elif row['installer']=='Central government':\n",
        "        return 'Central government'\n",
        "    elif row['installer']=='CES':\n",
        "        return 'CES'\n",
        "    elif row['installer']=='Community':\n",
        "        return 'Community'\n",
        "    elif row['installer']=='DANID':\n",
        "        return 'DANID'\n",
        "    elif row['installer']=='District Council':\n",
        "        return 'District Council'\n",
        "     \n",
        "    else:\n",
        "        return 'other'  \n",
        "\n",
        "df['installer'] = df.apply(lambda row: installer_top500(row), axis=1)"
      ],
      "execution_count": 0,
      "outputs": []
    },
    {
      "metadata": {
        "id": "TTtYDtd1ryfw",
        "colab_type": "code",
        "outputId": "a5588196-2ccf-47b1-97bb-a3c0daa93e05",
        "colab": {
          "base_uri": "https://localhost:8080/",
          "height": 1339
        }
      },
      "cell_type": "code",
      "source": [
        "plt.figure(figsize=(20,20))\n",
        "sns.countplot(data=df,x='installer',hue='status_group')\n",
        "df.installer.value_counts()"
      ],
      "execution_count": 0,
      "outputs": [
        {
          "output_type": "execute_result",
          "data": {
            "text/plain": [
              "other                 53528\n",
              "Hesawa                 1379\n",
              "KKKT                    898\n",
              "TCRS                    707\n",
              "Central government      622\n",
              "CES                     610\n",
              "Community               553\n",
              "DANID                   552\n",
              "District Council        551\n",
              "Name: installer, dtype: int64"
            ]
          },
          "metadata": {
            "tags": []
          },
          "execution_count": 94
        },
        {
          "output_type": "display_data",
          "data": {
            "image/png": "[encoded data removed]",
            "text/plain": [
              "<matplotlib.figure.Figure at 0x7fbc336a3f50>"
            ]
          },
          "metadata": {
            "tags": []
          }
        }
      ]
    },
    {
      "metadata": {
        "id": "8KNv4BuRvlII",
        "colab_type": "code",
        "outputId": "1c79d311-4fa1-4461-913b-d129cff66410",
        "colab": {
          "base_uri": "https://localhost:8080/",
          "height": 917
        }
      },
      "cell_type": "code",
      "source": [
        "piv_table = pd.pivot_table(df,index=['installer','status_group'],\n",
        "                           values='status_group_int', aggfunc='count')\n",
        "piv_table"
      ],
      "execution_count": 0,
      "outputs": [
        {
          "output_type": "execute_result",
          "data": {
            "text/html": [
              "<div>\n",
              "<style scoped>\n",
              "    .dataframe tbody tr th:only-of-type {\n",
              "        vertical-align: middle;\n",
              "    }\n",
              "\n",
              "    .dataframe tbody tr th {\n",
              "        vertical-align: top;\n",
              "    }\n",
              "\n",
              "    .dataframe thead th {\n",
              "        text-align: right;\n",
              "    }\n",
              "</style>\n",
              "<table border=\"1\" class=\"dataframe\">\n",
              "  <thead>\n",
              "    <tr style=\"text-align: right;\">\n",
              "      <th></th>\n",
              "      <th></th>\n",
              "      <th>status_group_int</th>\n",
              "    </tr>\n",
              "    <tr>\n",
              "      <th>installer</th>\n",
              "      <th>status_group</th>\n",
              "      <th></th>\n",
              "    </tr>\n",
              "  </thead>\n",
              "  <tbody>\n",
              "    <tr>\n",
              "      <th rowspan=\"3\" valign=\"top\">CES</th>\n",
              "      <th>functional</th>\n",
              "      <td>538</td>\n",
              "    </tr>\n",
              "    <tr>\n",
              "      <th>functional needs repair</th>\n",
              "      <td>1</td>\n",
              "    </tr>\n",
              "    <tr>\n",
              "      <th>non functional</th>\n",
              "      <td>71</td>\n",
              "    </tr>\n",
              "    <tr>\n",
              "      <th rowspan=\"3\" valign=\"top\">Central government</th>\n",
              "      <th>functional</th>\n",
              "      <td>168</td>\n",
              "    </tr>\n",
              "    <tr>\n",
              "      <th>functional needs repair</th>\n",
              "      <td>4</td>\n",
              "    </tr>\n",
              "    <tr>\n",
              "      <th>non functional</th>\n",
              "      <td>450</td>\n",
              "    </tr>\n",
              "    <tr>\n",
              "      <th rowspan=\"3\" valign=\"top\">Community</th>\n",
              "      <th>functional</th>\n",
              "      <td>386</td>\n",
              "    </tr>\n",
              "    <tr>\n",
              "      <th>functional needs repair</th>\n",
              "      <td>40</td>\n",
              "    </tr>\n",
              "    <tr>\n",
              "      <th>non functional</th>\n",
              "      <td>127</td>\n",
              "    </tr>\n",
              "    <tr>\n",
              "      <th rowspan=\"3\" valign=\"top\">DANID</th>\n",
              "      <th>functional</th>\n",
              "      <td>431</td>\n",
              "    </tr>\n",
              "    <tr>\n",
              "      <th>functional needs repair</th>\n",
              "      <td>9</td>\n",
              "    </tr>\n",
              "    <tr>\n",
              "      <th>non functional</th>\n",
              "      <td>112</td>\n",
              "    </tr>\n",
              "    <tr>\n",
              "      <th rowspan=\"3\" valign=\"top\">District Council</th>\n",
              "      <th>functional</th>\n",
              "      <td>280</td>\n",
              "    </tr>\n",
              "    <tr>\n",
              "      <th>functional needs repair</th>\n",
              "      <td>48</td>\n",
              "    </tr>\n",
              "    <tr>\n",
              "      <th>non functional</th>\n",
              "      <td>223</td>\n",
              "    </tr>\n",
              "    <tr>\n",
              "      <th rowspan=\"3\" valign=\"top\">Hesawa</th>\n",
              "      <th>functional</th>\n",
              "      <td>777</td>\n",
              "    </tr>\n",
              "    <tr>\n",
              "      <th>functional needs repair</th>\n",
              "      <td>53</td>\n",
              "    </tr>\n",
              "    <tr>\n",
              "      <th>non functional</th>\n",
              "      <td>549</td>\n",
              "    </tr>\n",
              "    <tr>\n",
              "      <th rowspan=\"3\" valign=\"top\">KKKT</th>\n",
              "      <th>functional</th>\n",
              "      <td>422</td>\n",
              "    </tr>\n",
              "    <tr>\n",
              "      <th>functional needs repair</th>\n",
              "      <td>62</td>\n",
              "    </tr>\n",
              "    <tr>\n",
              "      <th>non functional</th>\n",
              "      <td>414</td>\n",
              "    </tr>\n",
              "    <tr>\n",
              "      <th rowspan=\"3\" valign=\"top\">TCRS</th>\n",
              "      <th>functional</th>\n",
              "      <td>290</td>\n",
              "    </tr>\n",
              "    <tr>\n",
              "      <th>functional needs repair</th>\n",
              "      <td>42</td>\n",
              "    </tr>\n",
              "    <tr>\n",
              "      <th>non functional</th>\n",
              "      <td>375</td>\n",
              "    </tr>\n",
              "    <tr>\n",
              "      <th rowspan=\"3\" valign=\"top\">other</th>\n",
              "      <th>functional</th>\n",
              "      <td>28967</td>\n",
              "    </tr>\n",
              "    <tr>\n",
              "      <th>functional needs repair</th>\n",
              "      <td>4058</td>\n",
              "    </tr>\n",
              "    <tr>\n",
              "      <th>non functional</th>\n",
              "      <td>20503</td>\n",
              "    </tr>\n",
              "  </tbody>\n",
              "</table>\n",
              "</div>"
            ],
            "text/plain": [
              "                                            status_group_int\n",
              "installer          status_group                             \n",
              "CES                functional                            538\n",
              "                   functional needs repair                 1\n",
              "                   non functional                         71\n",
              "Central government functional                            168\n",
              "                   functional needs repair                 4\n",
              "                   non functional                        450\n",
              "Community          functional                            386\n",
              "                   functional needs repair                40\n",
              "                   non functional                        127\n",
              "DANID              functional                            431\n",
              "                   functional needs repair                 9\n",
              "                   non functional                        112\n",
              "District Council   functional                            280\n",
              "                   functional needs repair                48\n",
              "                   non functional                        223\n",
              "Hesawa             functional                            777\n",
              "                   functional needs repair                53\n",
              "                   non functional                        549\n",
              "KKKT               functional                            422\n",
              "                   functional needs repair                62\n",
              "                   non functional                        414\n",
              "TCRS               functional                            290\n",
              "                   functional needs repair                42\n",
              "                   non functional                        375\n",
              "other              functional                          28967\n",
              "                   functional needs repair              4058\n",
              "                   non functional                      20503"
            ]
          },
          "metadata": {
            "tags": []
          },
          "execution_count": 96
        }
      ]
    },
    {
      "metadata": {
        "colab_type": "code",
        "id": "acx28_LYgl7A",
        "outputId": "885b5889-67c7-49f1-eb26-c42327e85063",
        "colab": {
          "base_uri": "https://localhost:8080/",
          "height": 1071
        }
      },
      "cell_type": "code",
      "source": [
        "\n",
        "# The next feature to inspect is 'subvillage'.\n",
        "print(df.subvillage.value_counts())\n",
        "#We can see that there is not much variance in the subvillage column, hence we can drop it. "
      ],
      "execution_count": 0,
      "outputs": [
        {
          "output_type": "stream",
          "text": [
            "Madukani          508\n",
            "Shuleni           506\n",
            "Majengo           502\n",
            "Kati              373\n",
            "Mtakuja           262\n",
            "Sokoni            232\n",
            "M                 187\n",
            "Muungano          172\n",
            "Mbuyuni           164\n",
            "Mlimani           152\n",
            "Songambele        147\n",
            "Miembeni          134\n",
            "Msikitini         134\n",
            "1                 132\n",
            "Kibaoni           114\n",
            "Kanisani          111\n",
            "Mapinduzi         109\n",
            "I                 109\n",
            "Mjini             108\n",
            "Mjimwema          108\n",
            "Mkwajuni          104\n",
            "Mwenge            102\n",
            "Mabatini           98\n",
            "Azimio             98\n",
            "Mission            95\n",
            "Mbugani            95\n",
            "Bwawani            91\n",
            "Bondeni            90\n",
            "Chang'Ombe         88\n",
            "Zahanati           86\n",
            "                 ... \n",
            "Humbo               1\n",
            "Nyailungu           1\n",
            "Likweje A           1\n",
            "Mwamagiri           1\n",
            "Bulanda             1\n",
            "Rujebe              1\n",
            "Kahe Ya Zamani      1\n",
            "Mvumi B             1\n",
            "Gumbilo B           1\n",
            "Ilekebu             1\n",
            "Maleti              1\n",
            "Ndughwila           1\n",
            "Chamwandu           1\n",
            "Kwebua A            1\n",
            "Nyarusonzo          1\n",
            "Msoghoo             1\n",
            "Buyando             1\n",
            "Norukunjui          1\n",
            "Rutenga             1\n",
            "Kamnyazya           1\n",
            "Mgera               1\n",
            "Shukeni             1\n",
            "Pazu                1\n",
            "Imbambasi           1\n",
            "Chankwama           1\n",
            "Izugawima           1\n",
            "Kumurumo            1\n",
            "Matwiga             1\n",
            "Busamtya            1\n",
            "Manchira            1\n",
            "Name: subvillage, Length: 19287, dtype: int64\n"
          ],
          "name": "stdout"
        }
      ]
    },
    {
      "metadata": {
        "colab_type": "code",
        "id": "id-RFFSqgmDs",
        "outputId": "198310d4-12b1-40dc-8131-67691e366729",
        "colab": {
          "base_uri": "https://localhost:8080/",
          "height": 34
        }
      },
      "cell_type": "code",
      "source": [
        "#To verify our assumption, we can compute the the unique values in this feature. \n",
        "print('Unique villages: ', len(df.subvillage.value_counts()))\n"
      ],
      "execution_count": 0,
      "outputs": [
        {
          "output_type": "stream",
          "text": [
            "('Unique villages: ', 19287)\n"
          ],
          "name": "stdout"
        }
      ]
    },
    {
      "metadata": {
        "colab_type": "code",
        "id": "oX0E5uHJgnlr",
        "outputId": "c4c04167-cf28-473d-fb4c-b38b9def8324",
        "colab": {
          "base_uri": "https://localhost:8080/",
          "height": 68
        }
      },
      "cell_type": "code",
      "source": [
        "#since, it has 19287 unique values, it won't carry much variance in the dataset\n",
        "\n",
        "df = df.drop('subvillage', axis=1)\n",
        "\n",
        "# Next feature to process public_meeting\n",
        "\n",
        "df.public_meeting.value_counts()"
      ],
      "execution_count": 0,
      "outputs": [
        {
          "output_type": "execute_result",
          "data": {
            "text/plain": [
              "True     51011\n",
              "False     5055\n",
              "Name: public_meeting, dtype: int64"
            ]
          },
          "metadata": {
            "tags": []
          },
          "execution_count": 99
        }
      ]
    },
    {
      "metadata": {
        "colab_type": "code",
        "id": "1V7KcjQKgnxA",
        "outputId": "f904be80-192b-43d8-ebb3-77601342f095",
        "colab": {
          "base_uri": "https://localhost:8080/",
          "height": 238
        }
      },
      "cell_type": "code",
      "source": [
        "#Let's keep this column since it has only two values. Also, subsituting the NA values with 'unknown'\n",
        "df.public_meeting = df.public_meeting.fillna('Unknown')\n",
        "\n",
        "# Next fearure is 'scheme_management'\n",
        "df.scheme_management.value_counts()"
      ],
      "execution_count": 0,
      "outputs": [
        {
          "output_type": "execute_result",
          "data": {
            "text/plain": [
              "VWC                 36793\n",
              "WUG                  5206\n",
              "Water authority      3153\n",
              "WUA                  2883\n",
              "Water Board          2748\n",
              "Parastatal           1680\n",
              "Private operator     1063\n",
              "Company              1061\n",
              "Other                 766\n",
              "SWC                    97\n",
              "Trust                  72\n",
              "None                    1\n",
              "Name: scheme_management, dtype: int64"
            ]
          },
          "metadata": {
            "tags": []
          },
          "execution_count": 100
        }
      ]
    },
    {
      "metadata": {
        "colab_type": "code",
        "id": "90P6vhzBhTrK",
        "colab": {}
      },
      "cell_type": "code",
      "source": [
        "# Lets keep values above 1000 and assign the rest as 'other' \n",
        "\n",
        "def scheme_top1000(row):\n",
        "    if row['scheme_management']=='VWC':\n",
        "        return 'vwc'\n",
        "    elif row['scheme_management']=='WUG':\n",
        "        return 'wug'\n",
        "    elif row['scheme_management']=='Water authority':\n",
        "        return 'wtr_auth'\n",
        "    elif row['scheme_management']=='WUA':\n",
        "        return 'wua'\n",
        "    elif row['scheme_management']=='Water Board':\n",
        "        return 'wtr_brd'\n",
        "    elif row['scheme_management']=='Parastatal':\n",
        "        return 'Parastatal'\n",
        "    elif row['scheme_management']=='Private operator':\n",
        "        return 'Private operator'\n",
        "    elif row['scheme_management']=='Company':\n",
        "        return 'Company'\n",
        "    else:\n",
        "        return 'other'\n",
        "\n",
        "      \n",
        "df['scheme_management'] = df.apply(lambda row: scheme_top1000(row), axis=1)\n"
      ],
      "execution_count": 0,
      "outputs": []
    },
    {
      "metadata": {
        "id": "LsAupwnhtGt7",
        "colab_type": "code",
        "outputId": "d6c307fb-d297-4445-eeb9-ca68f928e73e",
        "colab": {
          "base_uri": "https://localhost:8080/",
          "height": 531
        }
      },
      "cell_type": "code",
      "source": [
        "plt.figure()\n",
        "sns.countplot(data=df,x='scheme_management',hue='status_group')\n",
        "df.scheme_management.value_counts()"
      ],
      "execution_count": 0,
      "outputs": [
        {
          "output_type": "execute_result",
          "data": {
            "text/plain": [
              "vwc                 36793\n",
              "wug                  5206\n",
              "other                4813\n",
              "wtr_auth             3153\n",
              "wua                  2883\n",
              "wtr_brd              2748\n",
              "Parastatal           1680\n",
              "Private operator     1063\n",
              "Company              1061\n",
              "Name: scheme_management, dtype: int64"
            ]
          },
          "metadata": {
            "tags": []
          },
          "execution_count": 103
        },
        {
          "output_type": "display_data",
          "data": {
            "image/png": "[encoded data removed]",
            "text/plain": [
              "<matplotlib.figure.Figure at 0x7fbc31e7da50>"
            ]
          },
          "metadata": {
            "tags": []
          }
        }
      ]
    },
    {
      "metadata": {
        "colab_type": "code",
        "id": "5pPCVh5hhTzt",
        "outputId": "9d9e6e1d-1343-4b8e-979e-171e63206424",
        "colab": {
          "base_uri": "https://localhost:8080/",
          "height": 917
        }
      },
      "cell_type": "code",
      "source": [
        "piv_table = pd.pivot_table(df, index=['scheme_management', 'status_group'],\n",
        "                           values='status_group_int', aggfunc='count')\n",
        "piv_table"
      ],
      "execution_count": 0,
      "outputs": [
        {
          "output_type": "execute_result",
          "data": {
            "text/html": [
              "<div>\n",
              "<style scoped>\n",
              "    .dataframe tbody tr th:only-of-type {\n",
              "        vertical-align: middle;\n",
              "    }\n",
              "\n",
              "    .dataframe tbody tr th {\n",
              "        vertical-align: top;\n",
              "    }\n",
              "\n",
              "    .dataframe thead th {\n",
              "        text-align: right;\n",
              "    }\n",
              "</style>\n",
              "<table border=\"1\" class=\"dataframe\">\n",
              "  <thead>\n",
              "    <tr style=\"text-align: right;\">\n",
              "      <th></th>\n",
              "      <th></th>\n",
              "      <th>status_group_int</th>\n",
              "    </tr>\n",
              "    <tr>\n",
              "      <th>scheme_management</th>\n",
              "      <th>status_group</th>\n",
              "      <th></th>\n",
              "    </tr>\n",
              "  </thead>\n",
              "  <tbody>\n",
              "    <tr>\n",
              "      <th rowspan=\"3\" valign=\"top\">Company</th>\n",
              "      <th>functional</th>\n",
              "      <td>534</td>\n",
              "    </tr>\n",
              "    <tr>\n",
              "      <th>functional needs repair</th>\n",
              "      <td>37</td>\n",
              "    </tr>\n",
              "    <tr>\n",
              "      <th>non functional</th>\n",
              "      <td>490</td>\n",
              "    </tr>\n",
              "    <tr>\n",
              "      <th rowspan=\"3\" valign=\"top\">Parastatal</th>\n",
              "      <th>functional</th>\n",
              "      <td>966</td>\n",
              "    </tr>\n",
              "    <tr>\n",
              "      <th>functional needs repair</th>\n",
              "      <td>202</td>\n",
              "    </tr>\n",
              "    <tr>\n",
              "      <th>non functional</th>\n",
              "      <td>512</td>\n",
              "    </tr>\n",
              "    <tr>\n",
              "      <th rowspan=\"3\" valign=\"top\">Private operator</th>\n",
              "      <th>functional</th>\n",
              "      <td>729</td>\n",
              "    </tr>\n",
              "    <tr>\n",
              "      <th>functional needs repair</th>\n",
              "      <td>23</td>\n",
              "    </tr>\n",
              "    <tr>\n",
              "      <th>non functional</th>\n",
              "      <td>311</td>\n",
              "    </tr>\n",
              "    <tr>\n",
              "      <th rowspan=\"3\" valign=\"top\">other</th>\n",
              "      <th>functional</th>\n",
              "      <td>2398</td>\n",
              "    </tr>\n",
              "    <tr>\n",
              "      <th>functional needs repair</th>\n",
              "      <td>251</td>\n",
              "    </tr>\n",
              "    <tr>\n",
              "      <th>non functional</th>\n",
              "      <td>2164</td>\n",
              "    </tr>\n",
              "    <tr>\n",
              "      <th rowspan=\"3\" valign=\"top\">vwc</th>\n",
              "      <th>functional</th>\n",
              "      <td>18960</td>\n",
              "    </tr>\n",
              "    <tr>\n",
              "      <th>functional needs repair</th>\n",
              "      <td>2334</td>\n",
              "    </tr>\n",
              "    <tr>\n",
              "      <th>non functional</th>\n",
              "      <td>15499</td>\n",
              "    </tr>\n",
              "    <tr>\n",
              "      <th rowspan=\"3\" valign=\"top\">wtr_auth</th>\n",
              "      <th>functional</th>\n",
              "      <td>1618</td>\n",
              "    </tr>\n",
              "    <tr>\n",
              "      <th>functional needs repair</th>\n",
              "      <td>448</td>\n",
              "    </tr>\n",
              "    <tr>\n",
              "      <th>non functional</th>\n",
              "      <td>1087</td>\n",
              "    </tr>\n",
              "    <tr>\n",
              "      <th rowspan=\"3\" valign=\"top\">wtr_brd</th>\n",
              "      <th>functional</th>\n",
              "      <td>2053</td>\n",
              "    </tr>\n",
              "    <tr>\n",
              "      <th>functional needs repair</th>\n",
              "      <td>111</td>\n",
              "    </tr>\n",
              "    <tr>\n",
              "      <th>non functional</th>\n",
              "      <td>584</td>\n",
              "    </tr>\n",
              "    <tr>\n",
              "      <th rowspan=\"3\" valign=\"top\">wua</th>\n",
              "      <th>functional</th>\n",
              "      <td>1995</td>\n",
              "    </tr>\n",
              "    <tr>\n",
              "      <th>functional needs repair</th>\n",
              "      <td>239</td>\n",
              "    </tr>\n",
              "    <tr>\n",
              "      <th>non functional</th>\n",
              "      <td>649</td>\n",
              "    </tr>\n",
              "    <tr>\n",
              "      <th rowspan=\"3\" valign=\"top\">wug</th>\n",
              "      <th>functional</th>\n",
              "      <td>3006</td>\n",
              "    </tr>\n",
              "    <tr>\n",
              "      <th>functional needs repair</th>\n",
              "      <td>672</td>\n",
              "    </tr>\n",
              "    <tr>\n",
              "      <th>non functional</th>\n",
              "      <td>1528</td>\n",
              "    </tr>\n",
              "  </tbody>\n",
              "</table>\n",
              "</div>"
            ],
            "text/plain": [
              "                                           status_group_int\n",
              "scheme_management status_group                             \n",
              "Company           functional                            534\n",
              "                  functional needs repair                37\n",
              "                  non functional                        490\n",
              "Parastatal        functional                            966\n",
              "                  functional needs repair               202\n",
              "                  non functional                        512\n",
              "Private operator  functional                            729\n",
              "                  functional needs repair                23\n",
              "                  non functional                        311\n",
              "other             functional                           2398\n",
              "                  functional needs repair               251\n",
              "                  non functional                       2164\n",
              "vwc               functional                          18960\n",
              "                  functional needs repair              2334\n",
              "                  non functional                      15499\n",
              "wtr_auth          functional                           1618\n",
              "                  functional needs repair               448\n",
              "                  non functional                       1087\n",
              "wtr_brd           functional                           2053\n",
              "                  functional needs repair               111\n",
              "                  non functional                        584\n",
              "wua               functional                           1995\n",
              "                  functional needs repair               239\n",
              "                  non functional                        649\n",
              "wug               functional                           3006\n",
              "                  functional needs repair               672\n",
              "                  non functional                       1528"
            ]
          },
          "metadata": {
            "tags": []
          },
          "execution_count": 30
        }
      ]
    },
    {
      "metadata": {
        "colab_type": "code",
        "id": "xWSv77UmhUp7",
        "outputId": "7db837c6-33c2-4830-aab3-6685c4269936",
        "colab": {
          "base_uri": "https://localhost:8080/",
          "height": 68
        }
      },
      "cell_type": "code",
      "source": [
        "#'permit' is the last column with null values \n",
        "df.permit.value_counts()"
      ],
      "execution_count": 0,
      "outputs": [
        {
          "output_type": "execute_result",
          "data": {
            "text/plain": [
              "True     38852\n",
              "False    17492\n",
              "Name: permit, dtype: int64"
            ]
          },
          "metadata": {
            "tags": []
          },
          "execution_count": 31
        }
      ]
    },
    {
      "metadata": {
        "colab_type": "code",
        "id": "hHhHQuhWhzmR",
        "colab": {}
      },
      "cell_type": "code",
      "source": [
        "#Just like the feature 'public_meeting' it has only 2 values but with better count ratio\n",
        "#We will keeo this column and replace the NA values with null\n",
        "\n",
        "df.permit = df.permit.fillna('Unknown')"
      ],
      "execution_count": 0,
      "outputs": []
    },
    {
      "metadata": {
        "colab_type": "code",
        "id": "nlA_FKPUhzuL",
        "outputId": "1362e3c0-3124-403d-e51c-4ada3dd7e9bc",
        "colab": {
          "base_uri": "https://localhost:8080/",
          "height": 357
        }
      },
      "cell_type": "code",
      "source": [
        "#checking for null values in the columns \n",
        "df.apply(lambda x: sum(x.isnull()))"
      ],
      "execution_count": 0,
      "outputs": [
        {
          "output_type": "execute_result",
          "data": {
            "text/plain": [
              "id                   0\n",
              "amount_tsh           0\n",
              "date_recorded        0\n",
              "funder               0\n",
              "installer            0\n",
              "basin                0\n",
              "population           0\n",
              "public_meeting       0\n",
              "scheme_management    0\n",
              "permit               0\n",
              "construction_year    0\n",
              "management_group     0\n",
              "payment              0\n",
              "water_quality        0\n",
              "quantity             0\n",
              "source_class         0\n",
              "waterpoint_type      0\n",
              "status_group         0\n",
              "status_group_int     0\n",
              "dtype: int64"
            ]
          },
          "metadata": {
            "tags": []
          },
          "execution_count": 33
        }
      ]
    },
    {
      "metadata": {
        "colab_type": "code",
        "id": "24e0bN1Ahz0X",
        "outputId": "8ec95147-217a-4e21-9e16-35265ce10089",
        "colab": {
          "base_uri": "https://localhost:8080/",
          "height": 272
        }
      },
      "cell_type": "code",
      "source": [
        "# string values and modify or remove them as we see fit.\n",
        "\n",
        "str_cols = df.select_dtypes(include = ['object'])\n",
        "str_cols.apply(lambda x: len(x.unique()))"
      ],
      "execution_count": 0,
      "outputs": [
        {
          "output_type": "execute_result",
          "data": {
            "text/plain": [
              "date_recorded        356\n",
              "funder                18\n",
              "installer             14\n",
              "basin                  9\n",
              "public_meeting         3\n",
              "scheme_management      9\n",
              "permit                 3\n",
              "management_group       5\n",
              "payment                7\n",
              "water_quality          8\n",
              "quantity               5\n",
              "source_class           3\n",
              "waterpoint_type        7\n",
              "status_group           3\n",
              "dtype: int64"
            ]
          },
          "metadata": {
            "tags": []
          },
          "execution_count": 34
        }
      ]
    },
    {
      "metadata": {
        "colab_type": "code",
        "id": "pK27ouGnhz56",
        "outputId": "aaaf0ba2-0506-4611-d64a-d11995e016fd",
        "colab": {
          "base_uri": "https://localhost:8080/",
          "height": 102
        }
      },
      "cell_type": "code",
      "source": [
        "# 'Date recorded'\n",
        "\n",
        "df.date_recorded.describe()"
      ],
      "execution_count": 0,
      "outputs": [
        {
          "output_type": "execute_result",
          "data": {
            "text/plain": [
              "count       59400\n",
              "unique        356\n",
              "top       3/15/11\n",
              "freq          572\n",
              "Name: date_recorded, dtype: object"
            ]
          },
          "metadata": {
            "tags": []
          },
          "execution_count": 35
        }
      ]
    },
    {
      "metadata": {
        "colab_type": "code",
        "id": "PXUJQuY_hz-1",
        "outputId": "b091d2cd-1576-4cc3-80a8-754c9b629fbf",
        "colab": {
          "base_uri": "https://localhost:8080/",
          "height": 136
        }
      },
      "cell_type": "code",
      "source": [
        "#Converting 'date_recorded' into Datetime format. We assume that the most recently recorded data might\n",
        "#have higher probability of having functional pump. \n",
        "#We can obtain this by subtracting all dates with the lastest recorded date\n",
        "\n",
        "\n",
        "df.date_recorded = pd.to_datetime(df.date_recorded)\n",
        "df.date_recorded.describe()"
      ],
      "execution_count": 0,
      "outputs": [
        {
          "output_type": "execute_result",
          "data": {
            "text/plain": [
              "count                   59400\n",
              "unique                    356\n",
              "top       2011-03-15 00:00:00\n",
              "freq                      572\n",
              "first     2002-10-14 00:00:00\n",
              "last      2013-12-03 00:00:00\n",
              "Name: date_recorded, dtype: object"
            ]
          },
          "metadata": {
            "tags": []
          },
          "execution_count": 36
        }
      ]
    },
    {
      "metadata": {
        "colab_type": "code",
        "id": "EAbkpDwMh0Ca",
        "outputId": "19571364-cdaa-414b-ac30-df312a5e65cf",
        "colab": {
          "base_uri": "https://localhost:8080/",
          "height": 170
        }
      },
      "cell_type": "code",
      "source": [
        "# The most recent data is 2013-12-03. Subtract each date from this point to obtain a \n",
        "# 'days_since_recorded' column. This \n",
        "\n",
        "df.date_recorded = pd.datetime(2013, 12, 3) - pd.to_datetime(df.date_recorded)\n",
        "df.columns = ['days_since_recorded' if x=='date_recorded' else x for x in df.columns]\n",
        "df.days_since_recorded = df.days_since_recorded.astype('timedelta64[D]').astype(int)\n",
        "df.days_since_recorded.describe()"
      ],
      "execution_count": 0,
      "outputs": [
        {
          "output_type": "execute_result",
          "data": {
            "text/plain": [
              "count    59400.000000\n",
              "mean       613.616970\n",
              "std        334.216374\n",
              "min          0.000000\n",
              "25%        297.000000\n",
              "50%        419.000000\n",
              "75%        977.000000\n",
              "max       4068.000000\n",
              "Name: days_since_recorded, dtype: float64"
            ]
          },
          "metadata": {
            "tags": []
          },
          "execution_count": 37
        }
      ]
    },
    {
      "metadata": {
        "colab_type": "code",
        "id": "SDHSrtfNh0MA",
        "outputId": "649715c9-9e28-48ec-e906-355e55ffc0e3",
        "colab": {
          "base_uri": "https://localhost:8080/",
          "height": 187
        }
      },
      "cell_type": "code",
      "source": [
        "df.basin.value_counts()"
      ],
      "execution_count": 0,
      "outputs": [
        {
          "output_type": "execute_result",
          "data": {
            "text/plain": [
              "Lake Victoria              10248\n",
              "Pangani                     8940\n",
              "Rufiji                      7976\n",
              "Internal                    7785\n",
              "Lake Tanganyika             6432\n",
              "Wami / Ruvu                 5987\n",
              "Lake Nyasa                  5085\n",
              "Ruvuma / Southern Coast     4493\n",
              "Lake Rukwa                  2454\n",
              "Name: basin, dtype: int64"
            ]
          },
          "metadata": {
            "tags": []
          },
          "execution_count": 38
        }
      ]
    },
    {
      "metadata": {
        "colab_type": "code",
        "id": "Yce6lZhBiZ3J",
        "outputId": "b1127959-6b03-43c3-8e9d-e7e7b0def3fd",
        "colab": {
          "base_uri": "https://localhost:8080/",
          "height": 917
        }
      },
      "cell_type": "code",
      "source": [
        "piv_table = pd.pivot_table(df, index=['basin', 'status_group'],\n",
        "                           values=['status_group_int'], aggfunc='count')\n",
        "piv_table\n",
        "\n"
      ],
      "execution_count": 0,
      "outputs": [
        {
          "output_type": "execute_result",
          "data": {
            "text/html": [
              "<div>\n",
              "<style scoped>\n",
              "    .dataframe tbody tr th:only-of-type {\n",
              "        vertical-align: middle;\n",
              "    }\n",
              "\n",
              "    .dataframe tbody tr th {\n",
              "        vertical-align: top;\n",
              "    }\n",
              "\n",
              "    .dataframe thead th {\n",
              "        text-align: right;\n",
              "    }\n",
              "</style>\n",
              "<table border=\"1\" class=\"dataframe\">\n",
              "  <thead>\n",
              "    <tr style=\"text-align: right;\">\n",
              "      <th></th>\n",
              "      <th></th>\n",
              "      <th>status_group_int</th>\n",
              "    </tr>\n",
              "    <tr>\n",
              "      <th>basin</th>\n",
              "      <th>status_group</th>\n",
              "      <th></th>\n",
              "    </tr>\n",
              "  </thead>\n",
              "  <tbody>\n",
              "    <tr>\n",
              "      <th rowspan=\"3\" valign=\"top\">Internal</th>\n",
              "      <th>functional</th>\n",
              "      <td>4482</td>\n",
              "    </tr>\n",
              "    <tr>\n",
              "      <th>functional needs repair</th>\n",
              "      <td>557</td>\n",
              "    </tr>\n",
              "    <tr>\n",
              "      <th>non functional</th>\n",
              "      <td>2746</td>\n",
              "    </tr>\n",
              "    <tr>\n",
              "      <th rowspan=\"3\" valign=\"top\">Lake Nyasa</th>\n",
              "      <th>functional</th>\n",
              "      <td>3324</td>\n",
              "    </tr>\n",
              "    <tr>\n",
              "      <th>functional needs repair</th>\n",
              "      <td>250</td>\n",
              "    </tr>\n",
              "    <tr>\n",
              "      <th>non functional</th>\n",
              "      <td>1511</td>\n",
              "    </tr>\n",
              "    <tr>\n",
              "      <th rowspan=\"3\" valign=\"top\">Lake Rukwa</th>\n",
              "      <th>functional</th>\n",
              "      <td>1000</td>\n",
              "    </tr>\n",
              "    <tr>\n",
              "      <th>functional needs repair</th>\n",
              "      <td>270</td>\n",
              "    </tr>\n",
              "    <tr>\n",
              "      <th>non functional</th>\n",
              "      <td>1184</td>\n",
              "    </tr>\n",
              "    <tr>\n",
              "      <th rowspan=\"3\" valign=\"top\">Lake Tanganyika</th>\n",
              "      <th>functional</th>\n",
              "      <td>3107</td>\n",
              "    </tr>\n",
              "    <tr>\n",
              "      <th>functional needs repair</th>\n",
              "      <td>742</td>\n",
              "    </tr>\n",
              "    <tr>\n",
              "      <th>non functional</th>\n",
              "      <td>2583</td>\n",
              "    </tr>\n",
              "    <tr>\n",
              "      <th rowspan=\"3\" valign=\"top\">Lake Victoria</th>\n",
              "      <th>functional</th>\n",
              "      <td>5100</td>\n",
              "    </tr>\n",
              "    <tr>\n",
              "      <th>functional needs repair</th>\n",
              "      <td>989</td>\n",
              "    </tr>\n",
              "    <tr>\n",
              "      <th>non functional</th>\n",
              "      <td>4159</td>\n",
              "    </tr>\n",
              "    <tr>\n",
              "      <th rowspan=\"3\" valign=\"top\">Pangani</th>\n",
              "      <th>functional</th>\n",
              "      <td>5372</td>\n",
              "    </tr>\n",
              "    <tr>\n",
              "      <th>functional needs repair</th>\n",
              "      <td>477</td>\n",
              "    </tr>\n",
              "    <tr>\n",
              "      <th>non functional</th>\n",
              "      <td>3091</td>\n",
              "    </tr>\n",
              "    <tr>\n",
              "      <th rowspan=\"3\" valign=\"top\">Rufiji</th>\n",
              "      <th>functional</th>\n",
              "      <td>5068</td>\n",
              "    </tr>\n",
              "    <tr>\n",
              "      <th>functional needs repair</th>\n",
              "      <td>437</td>\n",
              "    </tr>\n",
              "    <tr>\n",
              "      <th>non functional</th>\n",
              "      <td>2471</td>\n",
              "    </tr>\n",
              "    <tr>\n",
              "      <th rowspan=\"3\" valign=\"top\">Ruvuma / Southern Coast</th>\n",
              "      <th>functional</th>\n",
              "      <td>1670</td>\n",
              "    </tr>\n",
              "    <tr>\n",
              "      <th>functional needs repair</th>\n",
              "      <td>326</td>\n",
              "    </tr>\n",
              "    <tr>\n",
              "      <th>non functional</th>\n",
              "      <td>2497</td>\n",
              "    </tr>\n",
              "    <tr>\n",
              "      <th rowspan=\"3\" valign=\"top\">Wami / Ruvu</th>\n",
              "      <th>functional</th>\n",
              "      <td>3136</td>\n",
              "    </tr>\n",
              "    <tr>\n",
              "      <th>functional needs repair</th>\n",
              "      <td>269</td>\n",
              "    </tr>\n",
              "    <tr>\n",
              "      <th>non functional</th>\n",
              "      <td>2582</td>\n",
              "    </tr>\n",
              "  </tbody>\n",
              "</table>\n",
              "</div>"
            ],
            "text/plain": [
              "                                                 status_group_int\n",
              "basin                   status_group                             \n",
              "Internal                functional                           4482\n",
              "                        functional needs repair               557\n",
              "                        non functional                       2746\n",
              "Lake Nyasa              functional                           3324\n",
              "                        functional needs repair               250\n",
              "                        non functional                       1511\n",
              "Lake Rukwa              functional                           1000\n",
              "                        functional needs repair               270\n",
              "                        non functional                       1184\n",
              "Lake Tanganyika         functional                           3107\n",
              "                        functional needs repair               742\n",
              "                        non functional                       2583\n",
              "Lake Victoria           functional                           5100\n",
              "                        functional needs repair               989\n",
              "                        non functional                       4159\n",
              "Pangani                 functional                           5372\n",
              "                        functional needs repair               477\n",
              "                        non functional                       3091\n",
              "Rufiji                  functional                           5068\n",
              "                        functional needs repair               437\n",
              "                        non functional                       2471\n",
              "Ruvuma / Southern Coast functional                           1670\n",
              "                        functional needs repair               326\n",
              "                        non functional                       2497\n",
              "Wami / Ruvu             functional                           3136\n",
              "                        functional needs repair               269\n",
              "                        non functional                       2582"
            ]
          },
          "metadata": {
            "tags": []
          },
          "execution_count": 39
        }
      ]
    },
    {
      "metadata": {
        "colab_type": "code",
        "id": "Ae7cud_GiZ97",
        "colab": {}
      },
      "cell_type": "code",
      "source": [
        "# Most of the basins value have high number of functional pumps, therefore it seems\n",
        "# like a good feature to keep. "
      ],
      "execution_count": 0,
      "outputs": []
    },
    {
      "metadata": {
        "colab_type": "code",
        "id": "xPMVF6RIkBTu",
        "outputId": "4f62b712-fc7e-4dca-adb3-780b78711058",
        "colab": {
          "base_uri": "https://localhost:8080/",
          "height": 272
        }
      },
      "cell_type": "code",
      "source": [
        "str_cols.apply(lambda x: len(x.unique()))"
      ],
      "execution_count": 0,
      "outputs": [
        {
          "output_type": "execute_result",
          "data": {
            "text/plain": [
              "date_recorded        356\n",
              "funder                18\n",
              "installer             14\n",
              "basin                  9\n",
              "public_meeting         3\n",
              "scheme_management      9\n",
              "permit                 3\n",
              "management_group       5\n",
              "payment                7\n",
              "water_quality          8\n",
              "quantity               5\n",
              "source_class           3\n",
              "waterpoint_type        7\n",
              "status_group           3\n",
              "dtype: int64"
            ]
          },
          "metadata": {
            "tags": []
          },
          "execution_count": 41
        }
      ]
    },
    {
      "metadata": {
        "colab_type": "code",
        "id": "7LJmSgGfkBX5",
        "outputId": "09c6adf3-cd85-4d29-ef40-212481ddfa14",
        "colab": {
          "base_uri": "https://localhost:8080/",
          "height": 969
        }
      },
      "cell_type": "code",
      "source": [
        "#construction_year feature only has the year if construction of the pump, we assume \n",
        "# the more old the construction year is the more likely the pump will be non-functional or will need repair\n",
        "df.construction_year.value_counts()"
      ],
      "execution_count": 0,
      "outputs": [
        {
          "output_type": "execute_result",
          "data": {
            "text/plain": [
              "0       20709\n",
              "2010     2645\n",
              "2008     2613\n",
              "2009     2533\n",
              "2000     2091\n",
              "2007     1587\n",
              "2006     1471\n",
              "2003     1286\n",
              "2011     1256\n",
              "2004     1123\n",
              "2012     1084\n",
              "2002     1075\n",
              "1978     1037\n",
              "1995     1014\n",
              "2005     1011\n",
              "1999      979\n",
              "1998      966\n",
              "1990      954\n",
              "1985      945\n",
              "1980      811\n",
              "1996      811\n",
              "1984      779\n",
              "1982      744\n",
              "1994      738\n",
              "1972      708\n",
              "1974      676\n",
              "1997      644\n",
              "1992      640\n",
              "1993      608\n",
              "2001      540\n",
              "1988      521\n",
              "1983      488\n",
              "1975      437\n",
              "1986      434\n",
              "1976      414\n",
              "1970      411\n",
              "1991      324\n",
              "1989      316\n",
              "1987      302\n",
              "1981      238\n",
              "1977      202\n",
              "1979      192\n",
              "1973      184\n",
              "2013      176\n",
              "1971      145\n",
              "1960      102\n",
              "1967       88\n",
              "1963       85\n",
              "1968       77\n",
              "1969       59\n",
              "1964       40\n",
              "1962       30\n",
              "1961       21\n",
              "1965       19\n",
              "1966       17\n",
              "Name: construction_year, dtype: int64"
            ]
          },
          "metadata": {
            "tags": []
          },
          "execution_count": 42
        }
      ]
    },
    {
      "metadata": {
        "colab_type": "code",
        "id": "Izdz9HbrkBbK",
        "colab": {}
      },
      "cell_type": "code",
      "source": [
        "# changing the values of construction year into 60s, 70s, 80s,.....10s to eliminate \n",
        "# scattered values like 1960, 1964 can fall under 60s\n",
        "\n",
        "def construction_00(row):\n",
        "    if row['construction_year'] >= 1960 and row['construction_year'] < 1970:\n",
        "        return '60s'\n",
        "    elif row['construction_year'] >= 1970 and row['construction_year'] < 1980:\n",
        "        return '70s'\n",
        "    elif row['construction_year'] >= 1980 and row['construction_year'] < 1990:\n",
        "        return '80s'\n",
        "    elif row['construction_year'] >= 1990 and row['construction_year'] < 2000:\n",
        "        return '90s'\n",
        "    elif row['construction_year'] >= 2000 and row['construction_year'] < 2010:\n",
        "        return '00s'\n",
        "    elif row['construction_year'] >= 2010:\n",
        "        return '10s'\n",
        "    else:\n",
        "        return 'unknown'\n",
        "    \n",
        "df['construction_year'] = df.apply(lambda row: construction_00(row), axis=1)"
      ],
      "execution_count": 0,
      "outputs": []
    },
    {
      "metadata": {
        "id": "q_YQfOlmTxsr",
        "colab_type": "code",
        "outputId": "149198ad-e542-4be0-b816-627a01e657c2",
        "colab": {
          "base_uri": "https://localhost:8080/",
          "height": 497
        }
      },
      "cell_type": "code",
      "source": [
        "plt.figure()\n",
        "sns.countplot(data=df,x='construction_year',hue='status_group')\n",
        "df.construction_year.value_counts()"
      ],
      "execution_count": 0,
      "outputs": [
        {
          "output_type": "execute_result",
          "data": {
            "text/plain": [
              "unknown    20709\n",
              "00s        15330\n",
              "90s         7678\n",
              "80s         5578\n",
              "10s         5161\n",
              "70s         4406\n",
              "60s          538\n",
              "Name: construction_year, dtype: int64"
            ]
          },
          "metadata": {
            "tags": []
          },
          "execution_count": 44
        },
        {
          "output_type": "display_data",
          "data": {
            "image/png": "[encoded data removed]",
            "text/plain": [
              "<matplotlib.figure.Figure at 0x7fbc334bb0d0>"
            ]
          },
          "metadata": {
            "tags": []
          }
        }
      ]
    },
    {
      "metadata": {
        "colab_type": "code",
        "id": "xXHigMq7kBeV",
        "outputId": "4a4c46e1-1593-4db1-af09-d10014b0c0d0",
        "colab": {
          "base_uri": "https://localhost:8080/",
          "height": 361
        }
      },
      "cell_type": "code",
      "source": [
        "sns.distplot(df.population, bins = 40)\n",
        "plt.show()"
      ],
      "execution_count": 0,
      "outputs": [
        {
          "output_type": "display_data",
          "data": {
            "image/png": "[encoded data removed]",
            "text/plain": [
              "<matplotlib.figure.Figure at 0x7fbc333ff390>"
            ]
          },
          "metadata": {
            "tags": []
          }
        }
      ]
    },
    {
      "metadata": {
        "colab_type": "code",
        "id": "8tJf3Fx_kBj9",
        "outputId": "9dd23ddb-aefc-46d3-f838-074875f41552",
        "colab": {
          "base_uri": "https://localhost:8080/",
          "height": 425
        }
      },
      "cell_type": "code",
      "source": [
        "df.info()"
      ],
      "execution_count": 0,
      "outputs": [
        {
          "output_type": "stream",
          "text": [
            "<class 'pandas.core.frame.DataFrame'>\n",
            "Int64Index: 59400 entries, 0 to 59399\n",
            "Data columns (total 19 columns):\n",
            "id                     59400 non-null int64\n",
            "amount_tsh             59400 non-null float64\n",
            "days_since_recorded    59400 non-null int64\n",
            "funder                 59400 non-null object\n",
            "installer              59400 non-null object\n",
            "basin                  59400 non-null object\n",
            "population             59400 non-null int64\n",
            "public_meeting         59400 non-null object\n",
            "scheme_management      59400 non-null object\n",
            "permit                 59400 non-null object\n",
            "construction_year      59400 non-null object\n",
            "management_group       59400 non-null object\n",
            "payment                59400 non-null object\n",
            "water_quality          59400 non-null object\n",
            "quantity               59400 non-null object\n",
            "source_class           59400 non-null object\n",
            "waterpoint_type        59400 non-null object\n",
            "status_group           59400 non-null object\n",
            "status_group_int       59400 non-null int64\n",
            "dtypes: float64(1), int64(4), object(14)\n",
            "memory usage: 11.6+ MB\n"
          ],
          "name": "stdout"
        }
      ]
    },
    {
      "metadata": {
        "colab_type": "code",
        "id": "PYP6OUHQkBnN",
        "outputId": "72ae45df-f47e-457b-f21e-24967baeb5d7",
        "colab": {
          "base_uri": "https://localhost:8080/",
          "height": 361
        }
      },
      "cell_type": "code",
      "source": [
        "\n",
        "sns.distplot(df.amount_tsh, bins = 40)\n",
        "plt.show()"
      ],
      "execution_count": 0,
      "outputs": [
        {
          "output_type": "display_data",
          "data": {
            "image/png": "[encoded data removed]",
            "text/plain": [
              "<matplotlib.figure.Figure at 0x7fbc33282550>"
            ]
          },
          "metadata": {
            "tags": []
          }
        }
      ]
    },
    {
      "metadata": {
        "colab_type": "code",
        "id": "wd05gQa4kZVO",
        "outputId": "467b862a-82d8-440d-e929-6b4dde24b4cc",
        "colab": {
          "base_uri": "https://localhost:8080/",
          "height": 170
        }
      },
      "cell_type": "code",
      "source": [
        "\n",
        "df.population.describe()"
      ],
      "execution_count": 0,
      "outputs": [
        {
          "output_type": "execute_result",
          "data": {
            "text/plain": [
              "count    59400.000000\n",
              "mean       179.909983\n",
              "std        471.482176\n",
              "min          0.000000\n",
              "25%          0.000000\n",
              "50%         25.000000\n",
              "75%        215.000000\n",
              "max      30500.000000\n",
              "Name: population, dtype: float64"
            ]
          },
          "metadata": {
            "tags": []
          },
          "execution_count": 48
        }
      ]
    },
    {
      "metadata": {
        "colab_type": "code",
        "id": "_B3IUDQRkZZ1",
        "outputId": "87f8d786-0121-4bd4-93f2-865915456853",
        "colab": {
          "base_uri": "https://localhost:8080/",
          "height": 170
        }
      },
      "cell_type": "code",
      "source": [
        "df.amount_tsh.describe()"
      ],
      "execution_count": 0,
      "outputs": [
        {
          "output_type": "execute_result",
          "data": {
            "text/plain": [
              "count     59400.000000\n",
              "mean        317.650385\n",
              "std        2997.574558\n",
              "min           0.000000\n",
              "25%           0.000000\n",
              "50%           0.000000\n",
              "75%          20.000000\n",
              "max      350000.000000\n",
              "Name: amount_tsh, dtype: float64"
            ]
          },
          "metadata": {
            "tags": []
          },
          "execution_count": 49
        }
      ]
    },
    {
      "metadata": {
        "colab_type": "code",
        "id": "fdGePkx8kZdz",
        "colab": {}
      },
      "cell_type": "code",
      "source": [
        "# There is enough variation between the two, hence we can keep it in our model.\n",
        "# Let's save the dataframe to a new csv file. We'll start creating models in the next notebooks.\n",
        "df = df.drop('status_group_int', 1)\n",
        "df.to_csv('water_table_train.csv', index=False)"
      ],
      "execution_count": 0,
      "outputs": []
    },
    {
      "metadata": {
        "colab_type": "code",
        "id": "lwC3uG32kZlS",
        "colab": {}
      },
      "cell_type": "code",
      "source": [
        "# We'll also need to perform the same modifications to the test set.\n",
        "\n",
        "test = pd.read_csv('https://raw.githubusercontent.com/12ani/Taarifa_water_table/master/test_set_values.csv')\n",
        "\n",
        "test = test.drop(['wpt_name','extraction_type','extraction_type_group','extraction_type_class',\n",
        "                  'scheme_name','payment_type','quantity_group','source_type','waterpoint_type_group',\n",
        "                  'quality_group','source','management','gps_height', 'longitude', 'latitude', \n",
        "                  'region_code', 'district_code','region', 'lga', 'ward','recorded_by','num_private',\n",
        "                 'subvillage'], axis=1)\n",
        "\n",
        "test.date_recorded = pd.datetime(2013, 12, 3) - pd.to_datetime(test.date_recorded)\n",
        "test.columns = ['days_since_recorded' if x=='date_recorded' else x for x in test.columns]\n",
        "test.days_since_recorded = test.days_since_recorded.astype('timedelta64[D]').astype(int)\n",
        "\n",
        "test.permit = test.permit.fillna('Unknown')\n",
        "test.public_meeting = test.public_meeting.fillna('Unknown')\n",
        "\n",
        "test['scheme_management'] = test.apply(lambda row: scheme_top1000(row), axis=1)\n",
        "test['construction_year'] = test.apply(lambda row: construction_00(row), axis=1)\n",
        "test['installer'] = test.apply(lambda row: installer_top500(row), axis=1)\n",
        "test['funder'] = test.apply(lambda row: funder_top500(row), axis=1)"
      ],
      "execution_count": 0,
      "outputs": []
    },
    {
      "metadata": {
        "colab_type": "code",
        "id": "vJqScH9UkZoK",
        "outputId": "e2bdf902-a6c1-48a2-ac1c-a25811973d8a",
        "colab": {
          "base_uri": "https://localhost:8080/",
          "height": 34
        }
      },
      "cell_type": "code",
      "source": [
        "df.shape"
      ],
      "execution_count": 0,
      "outputs": [
        {
          "output_type": "execute_result",
          "data": {
            "text/plain": [
              "(59400, 18)"
            ]
          },
          "metadata": {
            "tags": []
          },
          "execution_count": 52
        }
      ]
    },
    {
      "metadata": {
        "colab_type": "code",
        "id": "PTQu2immkZr-",
        "outputId": "93afbd99-445b-4132-f759-7000a538194c",
        "colab": {
          "base_uri": "https://localhost:8080/",
          "height": 34
        }
      },
      "cell_type": "code",
      "source": [
        "test.shape"
      ],
      "execution_count": 0,
      "outputs": [
        {
          "output_type": "execute_result",
          "data": {
            "text/plain": [
              "(14850, 17)"
            ]
          },
          "metadata": {
            "tags": []
          },
          "execution_count": 53
        }
      ]
    },
    {
      "metadata": {
        "colab_type": "code",
        "id": "Xw8PUO_qkZvy",
        "colab": {}
      },
      "cell_type": "code",
      "source": [
        "test.to_csv('water_table_test.csv', index=False)"
      ],
      "execution_count": 0,
      "outputs": []
    },
    {
      "metadata": {
        "id": "UPm0pQdzsQE0",
        "colab_type": "code",
        "colab": {}
      },
      "cell_type": "code",
      "source": [
        "from google.colab import files\n",
        "files.download('water_table_test.csv','pump_train_for_models.csv')"
      ],
      "execution_count": 0,
      "outputs": []
    },
    {
      "metadata": {
        "id": "yHkGmbmwSiHL",
        "colab_type": "code",
        "colab": {}
      },
      "cell_type": "code",
      "source": [
        ""
      ],
      "execution_count": 0,
      "outputs": []
    }
  ]
}